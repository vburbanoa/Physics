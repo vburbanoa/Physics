{
 "cells": [
  {
   "cell_type": "code",
   "execution_count": 9,
   "metadata": {},
   "outputs": [],
   "source": [
    "from IPython.display import display, HTML"
   ]
  },
  {
   "cell_type": "markdown",
   "metadata": {},
   "source": [
    "# The two-dimensional diffusion equation"
   ]
  },
  {
   "cell_type": "markdown",
   "metadata": {},
   "source": [
    "La ecuación es: \n",
    "\n",
    "$$\\frac{\\partial T(t,x,y)}{\\partial t} = \\nu\\frac{\\partial^{2} T(t,x,y)}{\\partial x^{2}} + \\nu\\frac{\\partial^{2} T(t,x,y)}{\\partial y^{2}}$$\n",
    "\n",
    "Donde $\\nu$ es el coeficiente de difusión. Podemos aproximar $T(t,x,y)$ por una función discreta $T^n_{i,j}$, donde $x = i\\Delta x$, $y = j\\Delta y$ y $t = n\\Delta t$\n",
    "\n",
    "Usando diferencias finitas: \n",
    "\n",
    "\n",
    "> $$\\frac{\\partial T(t,x,y)}{\\partial t} ≈ \\frac{T^{n+1}_{i,j} - T^n_{i,j}}{\\Delta t} $$ \n",
    "\n",
    "\n",
    "\n",
    "> $$\\frac{\\partial^{2}T(t,x,y)}{\\partial x^{2}} \\approx \\frac{T^n_{i+1,j} - 2T^n_{i,j} + T^n_{i-1,j}}{(\\Delta x)^2}$$\n",
    "\n",
    "\n",
    "\n",
    "> $$\\frac{\\partial^{2} T(t,x,y)}{\\partial y^{2}} \\approx \\frac{T^n_{i,j+1} - 2T^n_{i,j} + T^n_{i,j-1}}{(\\Delta y)^2}$$\n",
    "\n",
    "Por lo tanto:\n",
    "\n",
    "$$\\frac{T^{n+1}_{i,j} - T^n_{i,j}}{\\Delta t} = \\nu\\left(\\frac{T^n_{i+1,j} - 2T^n_{i,j} + T^n_{i-1,j}}{(\\Delta x)^2} + \\frac{T^n_{i,j+1} - 2T^n_{i,j} + T^n_{i,j-1}}{(\\Delta y)^2}\\right)$$\n",
    "\n",
    "De esta manera, el estado del sistema en el paso de tiempo $n+1$, $T^{n+1}_{i,j}$ puede calcularse a partir de su estado en el tiempo $n$, $T^{n}_{i,j}$ a través de la ecuación:\n",
    "\n",
    "$$T^{n+1}_{i,j} = T^n_{i,j} + \\nu\\Delta t\\left(\\frac{T^n_{i+1,j} - 2T^n_{i,j} + T^n_{i-1,j}}{(\\Delta x)^2} + \\frac{T^n_{i,j+1} - 2T^n_{i,j} + T^n_{i,j-1}}{(\\Delta y)^2}\\right)$$\n",
    "\n",
    "\n",
    "\n",
    "\n",
    "\n",
    "\n",
    "\n",
    "\n",
    "\n",
    "\n",
    "\n"
   ]
  },
  {
   "cell_type": "markdown",
   "metadata": {},
   "source": [
    "## Ejemplo\n",
    "\n",
    "Para una placa cuadrada de lado $L = 1.0 \\ m$ y coeficiente de difusión $\\nu = 10^{-4} \\ m^2 s^-1 $. Las condiciones iniciales son: toda la placa a\n",
    "una temperatura $T= 50° \\ C$, excepto un cuadrado a $T = 100° \\ C$ de $ 0.2 \\ m \\times 0.2 \\ m$, a $x = 0.2 \\ m$ del lado izquierdo de la placa y centrado en el eje $y$:"
   ]
  },
  {
   "cell_type": "markdown",
   "metadata": {},
   "source": [
    "<p align=\"center\">\n",
    "  <img width=\"460\" height=\"300\" src=\"gif-imagenes/inicio.png\">\n",
    "</p>"
   ]
  },
  {
   "cell_type": "markdown",
   "metadata": {},
   "source": [
    "### Parte 1: Condiciones de Frontera Fijas"
   ]
  },
  {
   "cell_type": "markdown",
   "metadata": {},
   "source": [
    "Establecemos las siguientes condiciones:\n",
    "\n",
    "* Condiciones de frontera fijas a una temperatura constante de $T = 50°C$.\n",
    "\n",
    "* Se tomará $\\Delta x= \\Delta y = 0.01 m$.\n",
    "\n",
    "* El paso de tiempo $\\Delta t$ se elegirá de manera que cumpla con las condiciones de estabilidad, es decir, $\\Delta t < \\frac{0.5 (\\Delta x)^2}{\\nu}$\n"
   ]
  },
  {
   "cell_type": "code",
   "execution_count": 7,
   "metadata": {},
   "outputs": [
    {
     "data": {
      "text/html": [
       "<center><img src=\"gif-imagenes/fija.gif\" width=\"460\" height=\"300\"></center>"
      ],
      "text/plain": [
       "<IPython.core.display.HTML object>"
      ]
     },
     "metadata": {},
     "output_type": "display_data"
    }
   ],
   "source": [
    "display(HTML('<center><img src=\"gif-imagenes/fija.gif\" width=\"460\" height=\"300\"></center>'))"
   ]
  },
  {
   "cell_type": "markdown",
   "metadata": {},
   "source": [
    "### Parte 2: Condiciones de Frontera Abierta"
   ]
  },
  {
   "cell_type": "code",
   "execution_count": 5,
   "metadata": {},
   "outputs": [
    {
     "data": {
      "text/html": [
       "<center><img src=\"gif-imagenes/abierta.gif\" width=\"460\" height=\"300\"></center>"
      ],
      "text/plain": [
       "<IPython.core.display.HTML object>"
      ]
     },
     "metadata": {},
     "output_type": "display_data"
    }
   ],
   "source": [
    "display(HTML('<center><img src=\"gif-imagenes/abierta.gif\" width=\"460\" height=\"300\"></center>'))"
   ]
  },
  {
   "cell_type": "markdown",
   "metadata": {},
   "source": [
    "### Parte 3: Condiciones de Frontera Periódica"
   ]
  },
  {
   "cell_type": "code",
   "execution_count": 8,
   "metadata": {},
   "outputs": [
    {
     "data": {
      "text/html": [
       "<center><img src=\"gif-imagenes/periodica.gif\" width=\"460\" height=\"300\"></center>"
      ],
      "text/plain": [
       "<IPython.core.display.HTML object>"
      ]
     },
     "metadata": {},
     "output_type": "display_data"
    }
   ],
   "source": [
    "display(HTML('<center><img src=\"gif-imagenes/periodica.gif\" width=\"460\" height=\"300\"></center>'))"
   ]
  }
 ],
 "metadata": {
  "kernelspec": {
   "display_name": "base",
   "language": "python",
   "name": "python3"
  },
  "language_info": {
   "codemirror_mode": {
    "name": "ipython",
    "version": 3
   },
   "file_extension": ".py",
   "mimetype": "text/x-python",
   "name": "python",
   "nbconvert_exporter": "python",
   "pygments_lexer": "ipython3",
   "version": "3.10.10"
  }
 },
 "nbformat": 4,
 "nbformat_minor": 2
}
